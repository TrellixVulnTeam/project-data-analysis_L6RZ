{
 "cells": [
  {
   "cell_type": "code",
   "execution_count": 1,
   "id": "41092b2a",
   "metadata": {},
   "outputs": [
    {
     "name": "stdout",
     "output_type": "stream",
     "text": [
      "Package                Version\n",
      "---------------------- -----------\n",
      "anyio                  3.6.1\n",
      "argon2-cffi            21.3.0\n",
      "argon2-cffi-bindings   21.2.0\n",
      "asttokens              2.0.5\n",
      "attrs                  21.4.0\n",
      "backcall               0.2.0\n",
      "beautifulsoup4         4.11.1\n",
      "bleach                 5.0.1\n",
      "cffi                   1.15.0\n",
      "colorama               0.4.5\n",
      "debugpy                1.6.0\n",
      "decorator              5.1.1\n",
      "defusedxml             0.7.1\n",
      "distlib                0.3.4\n",
      "entrypoints            0.4\n",
      "executing              0.8.3\n",
      "fastjsonschema         2.15.3\n",
      "filelock               3.7.0\n",
      "idna                   3.3\n",
      "ipykernel              6.15.0\n",
      "ipython                8.4.0\n",
      "ipython-genutils       0.2.0\n",
      "ipywidgets             7.7.1\n",
      "jedi                   0.18.1\n",
      "Jinja2                 3.1.2\n",
      "jsonschema             4.6.0\n",
      "jupyter                1.0.0\n",
      "jupyter-client         7.3.4\n",
      "jupyter-console        6.4.4\n",
      "jupyter-core           4.10.0\n",
      "jupyter-server         1.18.0\n",
      "jupyterlab-pygments    0.2.2\n",
      "jupyterlab-widgets     1.1.1\n",
      "MarkupSafe             2.1.1\n",
      "matplotlib-inline      0.1.3\n",
      "mistune                0.8.4\n",
      "mysql-connector-python 8.0.29\n",
      "nbclient               0.6.4\n",
      "nbconvert              6.5.0\n",
      "nbformat               5.4.0\n",
      "nest-asyncio           1.5.5\n",
      "notebook               6.4.12\n",
      "packaging              21.3\n",
      "pandocfilters          1.5.0\n",
      "parso                  0.8.3\n",
      "pickleshare            0.7.5\n",
      "pip                    22.1.2\n",
      "platformdirs           2.5.2\n",
      "prometheus-client      0.14.1\n",
      "prompt-toolkit         3.0.30\n",
      "psutil                 5.9.1\n",
      "pure-eval              0.2.2\n",
      "pycparser              2.21\n",
      "Pygments               2.12.0\n",
      "pyparsing              3.0.9\n",
      "pyrsistent             0.18.1\n",
      "python-dateutil        2.8.2\n",
      "pywin32                304\n",
      "pywinpty               2.0.5\n",
      "pyzmq                  23.2.0\n",
      "qtconsole              5.3.1\n",
      "QtPy                   2.1.0\n",
      "Send2Trash             1.8.0\n",
      "setuptools             58.1.0\n",
      "six                    1.16.0\n",
      "sniffio                1.2.0\n",
      "soupsieve              2.3.2.post1\n",
      "stack-data             0.3.0\n",
      "terminado              0.15.0\n",
      "tinycss2               1.1.1\n",
      "tornado                6.1\n",
      "traitlets              5.3.0\n",
      "virtualenv             20.14.1\n",
      "wcwidth                0.2.5\n",
      "webencodings           0.5.1\n",
      "websocket-client       1.3.3\n",
      "widgetsnbextension     3.6.1\n",
      "\n",
      "[notice] A new release of pip available: 22.1.2 -> 22.2\n",
      "[notice] To update, run: python.exe -m pip install --upgrade pip\n"
     ]
    },
    {
     "name": "stderr",
     "output_type": "stream",
     "text": [
      "WARNING: Ignoring invalid distribution -ip (c:\\users\\asus\\appdata\\local\\programs\\python\\python310\\lib\\site-packages)\n",
      "WARNING: Ignoring invalid distribution -ip (c:\\users\\asus\\appdata\\local\\programs\\python\\python310\\lib\\site-packages)\n",
      "WARNING: Ignoring invalid distribution -ip (c:\\users\\asus\\appdata\\local\\programs\\python\\python310\\lib\\site-packages)\n",
      "WARNING: Ignoring invalid distribution -ip (c:\\users\\asus\\appdata\\local\\programs\\python\\python310\\lib\\site-packages)\n"
     ]
    }
   ],
   "source": [
    "!pip list"
   ]
  }
 ],
 "metadata": {
  "kernelspec": {
   "display_name": "dataanalysis",
   "language": "python",
   "name": "dataanalysis"
  },
  "language_info": {
   "codemirror_mode": {
    "name": "ipython",
    "version": 3
   },
   "file_extension": ".py",
   "mimetype": "text/x-python",
   "name": "python",
   "nbconvert_exporter": "python",
   "pygments_lexer": "ipython3",
   "version": "3.10.5"
  }
 },
 "nbformat": 4,
 "nbformat_minor": 5
}
